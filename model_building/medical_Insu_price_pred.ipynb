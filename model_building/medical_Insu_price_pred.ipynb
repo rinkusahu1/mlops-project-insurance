{
 "cells": [
  {
   "cell_type": "code",
   "execution_count": 1,
   "id": "25c384da-11da-474f-a50b-f8185880cc8b",
   "metadata": {},
   "outputs": [
    {
     "name": "stdout",
     "output_type": "stream",
     "text": [
      "Python 3.9.19\n"
     ]
    }
   ],
   "source": [
    "!python -V"
   ]
  },
  {
   "cell_type": "code",
   "execution_count": 24,
   "id": "83dbc4cb-7b1a-4655-8324-306d1ea70a17",
   "metadata": {},
   "outputs": [],
   "source": [
    "import pandas as pd\n",
    "import numpy as np\n",
    "import pickle\n",
    "import seaborn as sns\n",
    "import matplotlib.pyplot as plt\n",
    "import requests\n",
    "from io import StringIO"
   ]
  },
  {
   "cell_type": "code",
   "execution_count": 18,
   "id": "b1a86ff7-157e-4a59-8e03-d531b728a366",
   "metadata": {},
   "outputs": [
    {
     "name": "stdout",
     "output_type": "stream",
     "text": [
      "-rw-rw-rw- 1 codespace codespace 54289 Oct 12 08:00 ../insurance.csv\n"
     ]
    }
   ],
   "source": [
    "!ls -l ../insurance.csv\n"
   ]
  },
  {
   "cell_type": "code",
   "execution_count": 26,
   "id": "73e5de44-6cdf-46ca-8e6f-2a5a56ac7489",
   "metadata": {},
   "outputs": [],
   "source": [
    "\n",
    "df = pd.read_csv('https://raw.githubusercontent.com/rinkusahu1/mlops-project-insurance/refs/heads/model_building/insurance.csv')\n",
    "\n"
   ]
  },
  {
   "cell_type": "code",
   "execution_count": 28,
   "id": "0028efd7-95d6-4651-806c-48133ddaecc0",
   "metadata": {},
   "outputs": [],
   "source": [
    " model_location = f's3://medical-insurance-pp-artifacts/1/a88c9191dd3d471480f1567e10af9d28/artifacts/models_mlflow'"
   ]
  },
  {
   "cell_type": "code",
   "execution_count": 30,
   "id": "b46b9fc7-9363-463e-b218-c1c9c5e3680e",
   "metadata": {},
   "outputs": [],
   "source": [
    "scaler_location = f's3://medical-insurance-pp-artifacts/1/a88c9191dd3d471480f1567e10af9d28/artifacts/preprocessor'"
   ]
  },
  {
   "cell_type": "code",
   "execution_count": 31,
   "id": "756d7847-b981-4355-886b-84e2d4d01a42",
   "metadata": {},
   "outputs": [
    {
     "data": {
      "application/vnd.jupyter.widget-view+json": {
       "model_id": "05d5dd3c102245c095f0962adab991fe",
       "version_major": 2,
       "version_minor": 0
      },
      "text/plain": [
       "Downloading artifacts:   0%|          | 0/1 [00:00<?, ?it/s]"
      ]
     },
     "metadata": {},
     "output_type": "display_data"
    }
   ],
   "source": [
    "scaler_path = mlflow.artifacts.download_artifacts(\n",
    "        artifact_uri=scaler_location,dst_path= \"/workspaces/mlops-project-insurance/best-practice/integration_test\"\n",
    "    )"
   ]
  },
  {
   "cell_type": "code",
   "execution_count": null,
   "id": "ba4d950b-efd9-496a-b9f9-6a11167890e3",
   "metadata": {},
   "outputs": [],
   "source": []
  }
 ],
 "metadata": {
  "kernelspec": {
   "display_name": "Python 3 (ipykernel)",
   "language": "python",
   "name": "python3"
  },
  "language_info": {
   "codemirror_mode": {
    "name": "ipython",
    "version": 3
   },
   "file_extension": ".py",
   "mimetype": "text/x-python",
   "name": "python",
   "nbconvert_exporter": "python",
   "pygments_lexer": "ipython3",
   "version": "3.9.19"
  }
 },
 "nbformat": 4,
 "nbformat_minor": 5
}
